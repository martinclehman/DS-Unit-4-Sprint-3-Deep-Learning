{
 "cells": [
  {
   "cell_type": "markdown",
   "metadata": {},
   "source": [
    "Lambda School Data Science\n",
    "\n",
    "*Unit 4, Sprint 3, Module 3*\n",
    "\n",
    "---"
   ]
  },
  {
   "cell_type": "markdown",
   "metadata": {},
   "source": [
    "# Autoencoders\n",
    "\n",
    "> An autoencoder is a type of artificial neural network used to learn efficient data codings in an unsupervised manner.[1][2] The aim of an autoencoder is to learn a representation (encoding) for a set of data, typically for dimensionality reduction, by training the network to ignore signal “noise”. Along with the reduction side, a reconstructing side is learnt, where the autoencoder tries to generate from the reduced encoding a representation as close as possible to its original input, hence its name. "
   ]
  },
  {
   "cell_type": "markdown",
   "metadata": {},
   "source": [
    "## Learning Objectives\n",
    "*At the end of the lecture you should be to*:\n",
    "* <a href=\"#p1\">Part 1</a>: Describe the componenets of an autoencoder\n",
    "* <a href=\"#p2\">Part 2</a>: Train an autoencoder\n",
    "* <a href=\"#p3\">Part 3</a>: Apply an autoenocder to a basic information retrieval problem\n",
    "\n",
    "__Problem:__ Is it possible to automatically represent an image as a fixed-sized vector even if it isn’t labeled?\n",
    "\n",
    "__Solution:__ Use an autoencoder\n",
    "\n",
    "Why do we need to represent an image as a fixed-sized vector do you ask? \n",
    "\n",
    "* __Information Retrieval__\n",
    "    - [Reverse Image Search](https://en.wikipedia.org/wiki/Reverse_image_search)\n",
    "    - [Recommendation Systems - Content Based Filtering](https://en.wikipedia.org/wiki/Recommender_system#Content-based_filtering)\n",
    "* __Dimensionality Reduction__\n",
    "    - [Feature Extraction](https://www.kaggle.com/c/vsb-power-line-fault-detection/discussion/78285)\n",
    "    - [Manifold Learning](https://en.wikipedia.org/wiki/Nonlinear_dimensionality_reduction)\n",
    "\n",
    "We've already seen *representation learning* when we talked about word embedding modelings during our NLP week. Today we're going to achieve a similiar goal on images using *autoencoders*. An autoencoder is a neural network that is trained to attempt to copy its input to its output. Usually they are restricted in ways that allow them to copy only approximately. The model often learns useful properties of the data, because it is forced to prioritize which aspecs of the input should be copied. The properties of autoencoders have made them an important part of modern generative modeling approaches. Consider autoencoders a special case of feed-forward networks (the kind we've been studying); backpropagation and gradient descent still work. "
   ]
  },
  {
   "cell_type": "markdown",
   "metadata": {},
   "source": [
    "# Autoencoder Architecture (Learn)\n",
    "<a id=\"p1\"></a>"
   ]
  },
  {
   "cell_type": "markdown",
   "metadata": {},
   "source": [
    "## Overview\n",
    "\n",
    "The *encoder* compresses the input data and the *decoder* does the reverse to produce the uncompressed version of the data to create a reconstruction of the input as accurately as possible:\n",
    "\n",
    "<img src='https://miro.medium.com/max/1400/1*44eDEuZBEsmG_TCAKRI3Kw@2x.png' width=800/>\n",
    "\n",
    "The learning process gis described simply as minimizing a loss function: \n",
    "$ L(x, g(f(x))) $\n",
    "\n",
    "- $L$ is a loss function penalizing $g(f(x))$ for being dissimiliar from $x$ (such as mean squared error)\n",
    "- $f$ is the encoder function\n",
    "- $g$ is the decoder function"
   ]
  },
  {
   "cell_type": "markdown",
   "metadata": {},
   "source": [
    "## Follow Along\n",
    "### Extremely Simple Autoencoder"
   ]
  },
  {
   "cell_type": "code",
   "execution_count": 2,
   "metadata": {},
   "outputs": [
    {
     "name": "stdout",
     "output_type": "stream",
     "text": [
      "WARNING:tensorflow:From /home/ec2-user/anaconda3/envs/amazonei_tensorflow_p36/lib/python3.6/site-packages/tensorflow/python/ops/resource_variable_ops.py:435: colocate_with (from tensorflow.python.framework.ops) is deprecated and will be removed in a future version.\n",
      "Instructions for updating:\n",
      "Colocations handled automatically by placer.\n"
     ]
    }
   ],
   "source": [
    "from tensorflow.keras.layers import Input, Dense\n",
    "from tensorflow.keras.models import Model\n",
    "#import wandb\n",
    "#from wandb.keras import WandbCallback\n",
    "\n",
    "# this is the size of our encoded representations\n",
    "encoding_dim = 32  # 32 floats -> compression of factor 24.5, assuming the input is 784 floats\n",
    "\n",
    "# this is our input placeholder\n",
    "input_img = Input(shape=(784,)) # do flat representation of image\n",
    "\n",
    "# \"encoded\" is the encoded representation of the input\n",
    "encoded = Dense(encoding_dim,activation='sigmoid')(input_img)\n",
    "\n",
    "# \"decoded\" is the lossy reconstruction of the input\n",
    "decoded = Dense(784,activation='sigmoid')(encoded)\n",
    "\n",
    "# this model maps an input to its reconstruction\n",
    "autoencoder = Model(input_img,decoded)\n"
   ]
  },
  {
   "cell_type": "code",
   "execution_count": 4,
   "metadata": {},
   "outputs": [],
   "source": [
    "# this model maps an input to its encoded representation\n",
    "encoder = Model(input_img, encoded)"
   ]
  },
  {
   "cell_type": "code",
   "execution_count": 5,
   "metadata": {},
   "outputs": [],
   "source": [
    "# create a placeholder for an encoded (32-dimensional) input\n",
    "\n",
    "# retrieve the last layer of the autoencoder model\n",
    "\n",
    "# create the decoder model\n"
   ]
  },
  {
   "cell_type": "code",
   "execution_count": 6,
   "metadata": {},
   "outputs": [],
   "source": [
    "autoencoder.compile(optimizer='adadelta', loss='binary_crossentropy')"
   ]
  },
  {
   "cell_type": "code",
   "execution_count": 7,
   "metadata": {},
   "outputs": [
    {
     "name": "stdout",
     "output_type": "stream",
     "text": [
      "Downloading data from https://storage.googleapis.com/tensorflow/tf-keras-datasets/mnist.npz\n",
      "11493376/11490434 [==============================] - 0s 0us/step\n"
     ]
    }
   ],
   "source": [
    "from tensorflow.keras.datasets import mnist\n",
    "import numpy as np\n",
    "(x_train, _), (x_test, _) = mnist.load_data()"
   ]
  },
  {
   "cell_type": "code",
   "execution_count": 8,
   "metadata": {},
   "outputs": [
    {
     "name": "stdout",
     "output_type": "stream",
     "text": [
      "(60000, 784)\n",
      "(10000, 784)\n"
     ]
    }
   ],
   "source": [
    "x_train = x_train.astype('float32') / 255.\n",
    "x_test = x_test.astype('float32') / 255.\n",
    "x_train = x_train.reshape((len(x_train), np.prod(x_train.shape[1:])))\n",
    "x_test = x_test.reshape((len(x_test), np.prod(x_test.shape[1:])))\n",
    "print(x_train.shape)\n",
    "print(x_test.shape)"
   ]
  },
  {
   "cell_type": "code",
   "execution_count": 10,
   "metadata": {},
   "outputs": [
    {
     "name": "stdout",
     "output_type": "stream",
     "text": [
      "Train on 60000 samples, validate on 10000 samples\n",
      "WARNING:tensorflow:From /home/ec2-user/anaconda3/envs/amazonei_tensorflow_p36/lib/python3.6/site-packages/tensorflow/python/ops/math_ops.py:3066: to_int32 (from tensorflow.python.ops.math_ops) is deprecated and will be removed in a future version.\n",
      "Instructions for updating:\n",
      "Use tf.cast instead.\n",
      "Epoch 1/1000\n",
      "60000/60000 [==============================] - 5s 88us/sample - loss: 0.4621 - val_loss: 0.3297\n",
      "Epoch 2/1000\n",
      "60000/60000 [==============================] - 2s 38us/sample - loss: 0.3048 - val_loss: 0.2898\n",
      "Epoch 3/1000\n",
      "60000/60000 [==============================] - 2s 38us/sample - loss: 0.2836 - val_loss: 0.2788\n",
      "Epoch 4/1000\n",
      "60000/60000 [==============================] - 2s 38us/sample - loss: 0.2763 - val_loss: 0.2739\n",
      "Epoch 5/1000\n",
      "60000/60000 [==============================] - 2s 38us/sample - loss: 0.2727 - val_loss: 0.2712\n",
      "Epoch 6/1000\n",
      "60000/60000 [==============================] - 2s 37us/sample - loss: 0.2705 - val_loss: 0.2695\n",
      "Epoch 7/1000\n",
      "60000/60000 [==============================] - 2s 38us/sample - loss: 0.2691 - val_loss: 0.2683\n",
      "Epoch 8/1000\n",
      "60000/60000 [==============================] - 2s 37us/sample - loss: 0.2681 - val_loss: 0.2674\n",
      "Epoch 9/1000\n",
      "60000/60000 [==============================] - 2s 38us/sample - loss: 0.2674 - val_loss: 0.2668\n",
      "Epoch 10/1000\n",
      "60000/60000 [==============================] - 2s 38us/sample - loss: 0.2668 - val_loss: 0.2663\n",
      "Epoch 11/1000\n",
      "60000/60000 [==============================] - 2s 37us/sample - loss: 0.2664 - val_loss: 0.2659\n",
      "Epoch 12/1000\n",
      "60000/60000 [==============================] - 2s 37us/sample - loss: 0.2660 - val_loss: 0.2656\n",
      "Epoch 13/1000\n",
      "60000/60000 [==============================] - 2s 36us/sample - loss: 0.2657 - val_loss: 0.2653\n",
      "Epoch 14/1000\n",
      "60000/60000 [==============================] - 2s 38us/sample - loss: 0.2654 - val_loss: 0.2651\n",
      "Epoch 15/1000\n",
      "60000/60000 [==============================] - 2s 38us/sample - loss: 0.2652 - val_loss: 0.2649\n",
      "Epoch 16/1000\n",
      "60000/60000 [==============================] - 2s 38us/sample - loss: 0.2651 - val_loss: 0.2647\n",
      "Epoch 17/1000\n",
      "60000/60000 [==============================] - 2s 38us/sample - loss: 0.2649 - val_loss: 0.2645\n",
      "Epoch 18/1000\n",
      "60000/60000 [==============================] - 2s 38us/sample - loss: 0.2648 - val_loss: 0.2644\n",
      "Epoch 19/1000\n",
      "60000/60000 [==============================] - 2s 37us/sample - loss: 0.2646 - val_loss: 0.2643\n",
      "Epoch 20/1000\n",
      "60000/60000 [==============================] - 2s 38us/sample - loss: 0.2645 - val_loss: 0.2642\n",
      "Epoch 21/1000\n",
      "60000/60000 [==============================] - 2s 38us/sample - loss: 0.2644 - val_loss: 0.2641\n",
      "Epoch 22/1000\n",
      "60000/60000 [==============================] - 2s 38us/sample - loss: 0.2643 - val_loss: 0.2640\n",
      "Epoch 23/1000\n",
      "60000/60000 [==============================] - 2s 37us/sample - loss: 0.2643 - val_loss: 0.2639\n",
      "Epoch 24/1000\n",
      "60000/60000 [==============================] - 2s 37us/sample - loss: 0.2642 - val_loss: 0.2639\n",
      "Epoch 25/1000\n",
      "60000/60000 [==============================] - 2s 37us/sample - loss: 0.2641 - val_loss: 0.2638\n",
      "Epoch 26/1000\n",
      "60000/60000 [==============================] - 2s 37us/sample - loss: 0.2641 - val_loss: 0.2637\n",
      "Epoch 27/1000\n",
      "60000/60000 [==============================] - 2s 37us/sample - loss: 0.2640 - val_loss: 0.2637\n",
      "Epoch 28/1000\n",
      "60000/60000 [==============================] - 2s 37us/sample - loss: 0.2640 - val_loss: 0.2637\n",
      "Epoch 29/1000\n",
      "60000/60000 [==============================] - 2s 37us/sample - loss: 0.2639 - val_loss: 0.2636\n",
      "Epoch 30/1000\n",
      "60000/60000 [==============================] - 2s 38us/sample - loss: 0.2639 - val_loss: 0.2636\n",
      "Epoch 31/1000\n",
      "60000/60000 [==============================] - 2s 37us/sample - loss: 0.2638 - val_loss: 0.2635\n",
      "Epoch 32/1000\n",
      "60000/60000 [==============================] - 2s 37us/sample - loss: 0.2638 - val_loss: 0.2635\n",
      "Epoch 33/1000\n",
      "60000/60000 [==============================] - 2s 38us/sample - loss: 0.2638 - val_loss: 0.2635\n",
      "Epoch 34/1000\n",
      "60000/60000 [==============================] - 2s 39us/sample - loss: 0.2637 - val_loss: 0.2634\n",
      "Epoch 35/1000\n",
      "60000/60000 [==============================] - 3s 52us/sample - loss: 0.2637 - val_loss: 0.2634\n",
      "Epoch 36/1000\n",
      "60000/60000 [==============================] - 2s 38us/sample - loss: 0.2637 - val_loss: 0.2634\n",
      "Epoch 37/1000\n",
      "60000/60000 [==============================] - 2s 38us/sample - loss: 0.2636 - val_loss: 0.2633\n",
      "Epoch 38/1000\n",
      "60000/60000 [==============================] - 2s 38us/sample - loss: 0.2636 - val_loss: 0.2633\n",
      "Epoch 39/1000\n",
      "60000/60000 [==============================] - 2s 38us/sample - loss: 0.2636 - val_loss: 0.2633\n",
      "Epoch 40/1000\n",
      "60000/60000 [==============================] - 2s 38us/sample - loss: 0.2636 - val_loss: 0.2633\n",
      "Epoch 41/1000\n",
      "60000/60000 [==============================] - 2s 37us/sample - loss: 0.2635 - val_loss: 0.2632\n",
      "Epoch 42/1000\n",
      "60000/60000 [==============================] - 2s 38us/sample - loss: 0.2635 - val_loss: 0.2632\n",
      "Epoch 43/1000\n",
      "60000/60000 [==============================] - 2s 38us/sample - loss: 0.2635 - val_loss: 0.2632\n",
      "Epoch 44/1000\n",
      "60000/60000 [==============================] - 2s 38us/sample - loss: 0.2635 - val_loss: 0.2632\n",
      "Epoch 45/1000\n",
      "60000/60000 [==============================] - 2s 38us/sample - loss: 0.2634 - val_loss: 0.2631\n",
      "Epoch 46/1000\n",
      "60000/60000 [==============================] - 2s 37us/sample - loss: 0.2634 - val_loss: 0.2631\n",
      "Epoch 47/1000\n",
      "60000/60000 [==============================] - 2s 38us/sample - loss: 0.2634 - val_loss: 0.2631\n",
      "Epoch 48/1000\n",
      "60000/60000 [==============================] - 2s 38us/sample - loss: 0.2634 - val_loss: 0.2631\n",
      "Epoch 49/1000\n",
      "60000/60000 [==============================] - 2s 37us/sample - loss: 0.2634 - val_loss: 0.2631\n",
      "Epoch 50/1000\n",
      "60000/60000 [==============================] - 2s 37us/sample - loss: 0.2633 - val_loss: 0.2630\n",
      "Epoch 51/1000\n",
      "60000/60000 [==============================] - 2s 38us/sample - loss: 0.2633 - val_loss: 0.2630\n",
      "Epoch 52/1000\n",
      "60000/60000 [==============================] - 2s 38us/sample - loss: 0.2633 - val_loss: 0.2629\n",
      "Epoch 53/1000\n",
      "60000/60000 [==============================] - 2s 38us/sample - loss: 0.2632 - val_loss: 0.2628\n",
      "Epoch 54/1000\n",
      "60000/60000 [==============================] - 2s 37us/sample - loss: 0.2630 - val_loss: 0.2626\n",
      "Epoch 55/1000\n",
      "60000/60000 [==============================] - 2s 37us/sample - loss: 0.2626 - val_loss: 0.2622\n",
      "Epoch 56/1000\n",
      "60000/60000 [==============================] - 2s 37us/sample - loss: 0.2622 - val_loss: 0.2617\n",
      "Epoch 57/1000\n",
      "60000/60000 [==============================] - 2s 37us/sample - loss: 0.2618 - val_loss: 0.2613\n",
      "Epoch 58/1000\n",
      "60000/60000 [==============================] - 2s 38us/sample - loss: 0.2614 - val_loss: 0.2610\n",
      "Epoch 59/1000\n",
      "60000/60000 [==============================] - 2s 36us/sample - loss: 0.2610 - val_loss: 0.2606\n",
      "Epoch 60/1000\n",
      "60000/60000 [==============================] - 2s 38us/sample - loss: 0.2607 - val_loss: 0.2602\n",
      "Epoch 61/1000\n",
      "60000/60000 [==============================] - 2s 37us/sample - loss: 0.2603 - val_loss: 0.2598\n",
      "Epoch 62/1000\n",
      "60000/60000 [==============================] - 2s 38us/sample - loss: 0.2599 - val_loss: 0.2595\n",
      "Epoch 63/1000\n",
      "60000/60000 [==============================] - 2s 38us/sample - loss: 0.2596 - val_loss: 0.2591\n",
      "Epoch 64/1000\n",
      "60000/60000 [==============================] - 2s 38us/sample - loss: 0.2592 - val_loss: 0.2587\n",
      "Epoch 65/1000\n",
      "60000/60000 [==============================] - 2s 37us/sample - loss: 0.2588 - val_loss: 0.2584\n",
      "Epoch 66/1000\n",
      "60000/60000 [==============================] - 2s 38us/sample - loss: 0.2585 - val_loss: 0.2580\n",
      "Epoch 67/1000\n",
      "60000/60000 [==============================] - 2s 37us/sample - loss: 0.2581 - val_loss: 0.2576\n",
      "Epoch 68/1000\n",
      "60000/60000 [==============================] - 2s 38us/sample - loss: 0.2578 - val_loss: 0.2573\n",
      "Epoch 69/1000\n",
      "60000/60000 [==============================] - 2s 39us/sample - loss: 0.2574 - val_loss: 0.2569\n",
      "Epoch 70/1000\n",
      "60000/60000 [==============================] - 2s 38us/sample - loss: 0.2571 - val_loss: 0.2566\n",
      "Epoch 71/1000\n",
      "60000/60000 [==============================] - 2s 39us/sample - loss: 0.2567 - val_loss: 0.2562\n",
      "Epoch 72/1000\n"
     ]
    },
    {
     "name": "stdout",
     "output_type": "stream",
     "text": [
      "60000/60000 [==============================] - 2s 38us/sample - loss: 0.2563 - val_loss: 0.2558\n",
      "Epoch 73/1000\n",
      "60000/60000 [==============================] - 2s 38us/sample - loss: 0.2559 - val_loss: 0.2554\n",
      "Epoch 74/1000\n",
      "60000/60000 [==============================] - 2s 38us/sample - loss: 0.2555 - val_loss: 0.2550\n",
      "Epoch 75/1000\n",
      "60000/60000 [==============================] - 2s 38us/sample - loss: 0.2551 - val_loss: 0.2546\n",
      "Epoch 76/1000\n",
      "60000/60000 [==============================] - 2s 37us/sample - loss: 0.2548 - val_loss: 0.2543\n",
      "Epoch 77/1000\n",
      "60000/60000 [==============================] - 2s 38us/sample - loss: 0.2545 - val_loss: 0.2540\n",
      "Epoch 78/1000\n",
      "60000/60000 [==============================] - 2s 38us/sample - loss: 0.2542 - val_loss: 0.2537\n",
      "Epoch 79/1000\n",
      "60000/60000 [==============================] - 2s 37us/sample - loss: 0.2539 - val_loss: 0.2534\n",
      "Epoch 80/1000\n",
      "60000/60000 [==============================] - 2s 38us/sample - loss: 0.2536 - val_loss: 0.2531\n",
      "Epoch 81/1000\n",
      "60000/60000 [==============================] - 2s 37us/sample - loss: 0.2533 - val_loss: 0.2528\n",
      "Epoch 82/1000\n",
      "60000/60000 [==============================] - 2s 38us/sample - loss: 0.2530 - val_loss: 0.2525\n",
      "Epoch 83/1000\n",
      "60000/60000 [==============================] - 2s 37us/sample - loss: 0.2527 - val_loss: 0.2522\n",
      "Epoch 84/1000\n",
      "60000/60000 [==============================] - 2s 37us/sample - loss: 0.2524 - val_loss: 0.2518\n",
      "Epoch 85/1000\n",
      "60000/60000 [==============================] - 2s 37us/sample - loss: 0.2520 - val_loss: 0.2515\n",
      "Epoch 86/1000\n",
      "60000/60000 [==============================] - 2s 37us/sample - loss: 0.2517 - val_loss: 0.2512\n",
      "Epoch 87/1000\n",
      "60000/60000 [==============================] - 2s 37us/sample - loss: 0.2514 - val_loss: 0.2508\n",
      "Epoch 88/1000\n",
      "60000/60000 [==============================] - 2s 37us/sample - loss: 0.2510 - val_loss: 0.2505\n",
      "Epoch 89/1000\n",
      "60000/60000 [==============================] - 2s 37us/sample - loss: 0.2507 - val_loss: 0.2501\n",
      "Epoch 90/1000\n",
      "55552/60000 [==========================>...] - ETA: 0s - loss: 0.2504"
     ]
    },
    {
     "ename": "KeyboardInterrupt",
     "evalue": "",
     "output_type": "error",
     "traceback": [
      "\u001b[0;31m---------------------------------------------------------------------------\u001b[0m",
      "\u001b[0;31mKeyboardInterrupt\u001b[0m                         Traceback (most recent call last)",
      "\u001b[0;32m<ipython-input-10-ec963292d1f8>\u001b[0m in \u001b[0;36m<module>\u001b[0;34m()\u001b[0m\n\u001b[1;32m      6\u001b[0m                 \u001b[0mshuffle\u001b[0m\u001b[0;34m=\u001b[0m\u001b[0;32mTrue\u001b[0m\u001b[0;34m,\u001b[0m\u001b[0;34m\u001b[0m\u001b[0m\n\u001b[1;32m      7\u001b[0m                 \u001b[0mvalidation_data\u001b[0m\u001b[0;34m=\u001b[0m\u001b[0;34m(\u001b[0m\u001b[0mx_test\u001b[0m\u001b[0;34m,\u001b[0m \u001b[0mx_test\u001b[0m\u001b[0;34m)\u001b[0m\u001b[0;34m,\u001b[0m\u001b[0;34m\u001b[0m\u001b[0m\n\u001b[0;32m----> 8\u001b[0;31m                 \u001b[0mverbose\u001b[0m \u001b[0;34m=\u001b[0m \u001b[0;32mTrue\u001b[0m\u001b[0;34m\u001b[0m\u001b[0m\n\u001b[0m\u001b[1;32m      9\u001b[0m                 )\n",
      "\u001b[0;32m~/anaconda3/envs/amazonei_tensorflow_p36/lib/python3.6/site-packages/tensorflow/python/keras/engine/training.py\u001b[0m in \u001b[0;36mfit\u001b[0;34m(self, x, y, batch_size, epochs, verbose, callbacks, validation_split, validation_data, shuffle, class_weight, sample_weight, initial_epoch, steps_per_epoch, validation_steps, max_queue_size, workers, use_multiprocessing, **kwargs)\u001b[0m\n\u001b[1;32m    878\u001b[0m           \u001b[0minitial_epoch\u001b[0m\u001b[0;34m=\u001b[0m\u001b[0minitial_epoch\u001b[0m\u001b[0;34m,\u001b[0m\u001b[0;34m\u001b[0m\u001b[0m\n\u001b[1;32m    879\u001b[0m           \u001b[0msteps_per_epoch\u001b[0m\u001b[0;34m=\u001b[0m\u001b[0msteps_per_epoch\u001b[0m\u001b[0;34m,\u001b[0m\u001b[0;34m\u001b[0m\u001b[0m\n\u001b[0;32m--> 880\u001b[0;31m           validation_steps=validation_steps)\n\u001b[0m\u001b[1;32m    881\u001b[0m \u001b[0;34m\u001b[0m\u001b[0m\n\u001b[1;32m    882\u001b[0m   def evaluate(self,\n",
      "\u001b[0;32m~/anaconda3/envs/amazonei_tensorflow_p36/lib/python3.6/site-packages/tensorflow/python/keras/engine/training_arrays.py\u001b[0m in \u001b[0;36mmodel_iteration\u001b[0;34m(model, inputs, targets, sample_weights, batch_size, epochs, verbose, callbacks, val_inputs, val_targets, val_sample_weights, shuffle, initial_epoch, steps_per_epoch, validation_steps, mode, validation_in_fit, **kwargs)\u001b[0m\n\u001b[1;32m    327\u001b[0m \u001b[0;34m\u001b[0m\u001b[0m\n\u001b[1;32m    328\u001b[0m         \u001b[0;31m# Get outputs.\u001b[0m\u001b[0;34m\u001b[0m\u001b[0;34m\u001b[0m\u001b[0m\n\u001b[0;32m--> 329\u001b[0;31m         \u001b[0mbatch_outs\u001b[0m \u001b[0;34m=\u001b[0m \u001b[0mf\u001b[0m\u001b[0;34m(\u001b[0m\u001b[0mins_batch\u001b[0m\u001b[0;34m)\u001b[0m\u001b[0;34m\u001b[0m\u001b[0m\n\u001b[0m\u001b[1;32m    330\u001b[0m         \u001b[0;32mif\u001b[0m \u001b[0;32mnot\u001b[0m \u001b[0misinstance\u001b[0m\u001b[0;34m(\u001b[0m\u001b[0mbatch_outs\u001b[0m\u001b[0;34m,\u001b[0m \u001b[0mlist\u001b[0m\u001b[0;34m)\u001b[0m\u001b[0;34m:\u001b[0m\u001b[0;34m\u001b[0m\u001b[0m\n\u001b[1;32m    331\u001b[0m           \u001b[0mbatch_outs\u001b[0m \u001b[0;34m=\u001b[0m \u001b[0;34m[\u001b[0m\u001b[0mbatch_outs\u001b[0m\u001b[0;34m]\u001b[0m\u001b[0;34m\u001b[0m\u001b[0m\n",
      "\u001b[0;32m~/anaconda3/envs/amazonei_tensorflow_p36/lib/python3.6/site-packages/tensorflow/python/keras/backend.py\u001b[0m in \u001b[0;36m__call__\u001b[0;34m(self, inputs)\u001b[0m\n\u001b[1;32m   3074\u001b[0m \u001b[0;34m\u001b[0m\u001b[0m\n\u001b[1;32m   3075\u001b[0m     fetched = self._callable_fn(*array_vals,\n\u001b[0;32m-> 3076\u001b[0;31m                                 run_metadata=self.run_metadata)\n\u001b[0m\u001b[1;32m   3077\u001b[0m     \u001b[0mself\u001b[0m\u001b[0;34m.\u001b[0m\u001b[0m_call_fetch_callbacks\u001b[0m\u001b[0;34m(\u001b[0m\u001b[0mfetched\u001b[0m\u001b[0;34m[\u001b[0m\u001b[0;34m-\u001b[0m\u001b[0mlen\u001b[0m\u001b[0;34m(\u001b[0m\u001b[0mself\u001b[0m\u001b[0;34m.\u001b[0m\u001b[0m_fetches\u001b[0m\u001b[0;34m)\u001b[0m\u001b[0;34m:\u001b[0m\u001b[0;34m]\u001b[0m\u001b[0;34m)\u001b[0m\u001b[0;34m\u001b[0m\u001b[0m\n\u001b[1;32m   3078\u001b[0m     return nest.pack_sequence_as(self._outputs_structure,\n",
      "\u001b[0;32m~/anaconda3/envs/amazonei_tensorflow_p36/lib/python3.6/site-packages/tensorflow/python/client/session.py\u001b[0m in \u001b[0;36m__call__\u001b[0;34m(self, *args, **kwargs)\u001b[0m\n\u001b[1;32m   1437\u001b[0m           ret = tf_session.TF_SessionRunCallable(\n\u001b[1;32m   1438\u001b[0m               \u001b[0mself\u001b[0m\u001b[0;34m.\u001b[0m\u001b[0m_session\u001b[0m\u001b[0;34m.\u001b[0m\u001b[0m_session\u001b[0m\u001b[0;34m,\u001b[0m \u001b[0mself\u001b[0m\u001b[0;34m.\u001b[0m\u001b[0m_handle\u001b[0m\u001b[0;34m,\u001b[0m \u001b[0margs\u001b[0m\u001b[0;34m,\u001b[0m \u001b[0mstatus\u001b[0m\u001b[0;34m,\u001b[0m\u001b[0;34m\u001b[0m\u001b[0m\n\u001b[0;32m-> 1439\u001b[0;31m               run_metadata_ptr)\n\u001b[0m\u001b[1;32m   1440\u001b[0m         \u001b[0;32mif\u001b[0m \u001b[0mrun_metadata\u001b[0m\u001b[0;34m:\u001b[0m\u001b[0;34m\u001b[0m\u001b[0m\n\u001b[1;32m   1441\u001b[0m           \u001b[0mproto_data\u001b[0m \u001b[0;34m=\u001b[0m \u001b[0mtf_session\u001b[0m\u001b[0;34m.\u001b[0m\u001b[0mTF_GetBuffer\u001b[0m\u001b[0;34m(\u001b[0m\u001b[0mrun_metadata_ptr\u001b[0m\u001b[0;34m)\u001b[0m\u001b[0;34m\u001b[0m\u001b[0m\n",
      "\u001b[0;31mKeyboardInterrupt\u001b[0m: "
     ]
    }
   ],
   "source": [
    "#wandb.init(project=\"mnist_autoencoder\", entity=\"ds5\")\n",
    "\n",
    "autoencoder.fit(x_train, x_train,\n",
    "                epochs=1000,\n",
    "                batch_size=256,\n",
    "                shuffle=True,\n",
    "                validation_data=(x_test, x_test),\n",
    "                verbose = True\n",
    "                )"
   ]
  },
  {
   "cell_type": "code",
   "execution_count": 13,
   "metadata": {},
   "outputs": [],
   "source": [
    "# encode and decode some digits\n",
    "# note that we take them from the *test* set\n",
    "\n",
    "decoded_imgs = autoencoder.predict(x_test)"
   ]
  },
  {
   "cell_type": "code",
   "execution_count": 14,
   "metadata": {},
   "outputs": [
    {
     "data": {
      "image/png": "[encoded data removed]",
      "text/plain": [
       "<Figure size 1440x288 with 20 Axes>"
      ]
     },
     "metadata": {},
     "output_type": "display_data"
    }
   ],
   "source": [
    "# use Matplotlib (don't ask)\n",
    "import matplotlib.pyplot as plt\n",
    "\n",
    "n = 10  # how many digits we will display\n",
    "plt.figure(figsize=(20, 4))\n",
    "for i in range(n):\n",
    "    # display original\n",
    "    ax = plt.subplot(2, n, i + 1)\n",
    "    plt.imshow(x_test[i].reshape(28, 28))\n",
    "    plt.gray()\n",
    "    ax.get_xaxis().set_visible(False)\n",
    "    ax.get_yaxis().set_visible(False)\n",
    "\n",
    "    # display reconstruction\n",
    "    ax = plt.subplot(2, n, i + 1 + n)\n",
    "    plt.imshow(decoded_imgs[i].reshape(28, 28))\n",
    "    plt.gray()\n",
    "    ax.get_xaxis().set_visible(False)\n",
    "    ax.get_yaxis().set_visible(False)\n",
    "plt.show()"
   ]
  },
  {
   "cell_type": "markdown",
   "metadata": {},
   "source": [
    "## Challenge\n",
    "\n",
    "Expected to talk about the components of autoencoder and their purpose. "
   ]
  },
  {
   "cell_type": "markdown",
   "metadata": {},
   "source": [
    "# Train an Autoencoder (Learn)\n",
    "<a id=\"p2\"></a>"
   ]
  },
  {
   "cell_type": "markdown",
   "metadata": {},
   "source": [
    "## Overview\n",
    "\n",
    "As long as our architecture maintains an hourglass shape, we can continue to add layers and create a deeper network. "
   ]
  },
  {
   "cell_type": "markdown",
   "metadata": {
    "toc-hr-collapsed": true
   },
   "source": [
    "## Follow Along"
   ]
  },
  {
   "cell_type": "markdown",
   "metadata": {},
   "source": [
    "### Deep Autoencoder"
   ]
  },
  {
   "cell_type": "code",
   "execution_count": null,
   "metadata": {},
   "outputs": [],
   "source": [
    "input_img = Input(shape=(784,))\n"
   ]
  },
  {
   "cell_type": "code",
   "execution_count": null,
   "metadata": {},
   "outputs": [],
   "source": [
    "# compile & fit model"
   ]
  },
  {
   "cell_type": "code",
   "execution_count": null,
   "metadata": {},
   "outputs": [],
   "source": [
    "# use Matplotlib (don't ask)\n",
    "import matplotlib.pyplot as plt\n",
    "\n",
    "n = 10  # how many digits we will display\n",
    "plt.figure(figsize=(20, 4))\n",
    "for i in range(n):\n",
    "    # display original\n",
    "    ax = plt.subplot(2, n, i + 1)\n",
    "    plt.imshow(x_test[i].reshape(28, 28))\n",
    "    plt.gray()\n",
    "    ax.get_xaxis().set_visible(False)\n",
    "    ax.get_yaxis().set_visible(False)\n",
    "\n",
    "    # display reconstruction\n",
    "    ax = plt.subplot(2, n, i + 1 + n)\n",
    "    plt.imshow(decoded_imgs[i].reshape(28, 28))\n",
    "    plt.gray()\n",
    "    ax.get_xaxis().set_visible(False)\n",
    "    ax.get_yaxis().set_visible(False)\n",
    "plt.show()"
   ]
  },
  {
   "cell_type": "markdown",
   "metadata": {
    "toc-hr-collapsed": true
   },
   "source": [
    "### Convolutional autoencoder\n",
    "\n",
    "> Since our inputs are images, it makes sense to use convolutional neural networks (convnets) as encoders and decoders. In practical settings, autoencoders applied to images are always convolutional autoencoders --they simply perform much better.\n",
    "\n",
    "> Let's implement one. The encoder will consist in a stack of Conv2D and MaxPooling2D layers (max pooling being used for spatial down-sampling), while the decoder will consist in a stack of Conv2D and UpSampling2D layers."
   ]
  },
  {
   "cell_type": "code",
   "execution_count": null,
   "metadata": {},
   "outputs": [],
   "source": [
    "from keras.layers import Input, Dense, Conv2D, MaxPooling2D, UpSampling2D\n",
    "from keras.models import Model\n",
    "from keras import backend as K\n",
    "\n",
    "# Create Model \n",
    "\n",
    "autoencoder.compile(optimizer='adadelta', loss='binary_crossentropy')"
   ]
  },
  {
   "cell_type": "code",
   "execution_count": null,
   "metadata": {},
   "outputs": [],
   "source": [
    "from keras.datasets import mnist\n",
    "import numpy as np\n",
    "\n",
    "(x_train, _), (x_test, _) = mnist.load_data()\n",
    "\n",
    "x_train = x_train.astype('float32') / 255.\n",
    "x_test = x_test.astype('float32') / 255.\n",
    "x_train = np.reshape(x_train, (len(x_train), 28, 28, 1))  # adapt this if using `channels_first` image data format\n",
    "x_test = np.reshape(x_test, (len(x_test), 28, 28, 1))  # adapt this if using `channels_first` image data format"
   ]
  },
  {
   "cell_type": "code",
   "execution_count": null,
   "metadata": {},
   "outputs": [],
   "source": [
    "wandb.init(project=\"mnist_autoencoder\", entity=\"ds5\")\n",
    "\n",
    "autoencoder.fit(x_train, x_train,\n",
    "                epochs=100,\n",
    "                batch_size=256,\n",
    "                shuffle=True,\n",
    "                validation_data=(x_test, x_test),\n",
    "                verbose=False,\n",
    "                callbacks=[WandbCallback()])"
   ]
  },
  {
   "cell_type": "code",
   "execution_count": null,
   "metadata": {},
   "outputs": [],
   "source": [
    "decoded_imgs = autoencoder.predict(x_test)\n",
    "\n",
    "n = 10\n",
    "plt.figure(figsize=(20, 4))\n",
    "for i in range(n):\n",
    "    # display original\n",
    "    ax = plt.subplot(2, n, i)\n",
    "    plt.imshow(x_test[i].reshape(28, 28))\n",
    "    plt.gray()\n",
    "    ax.get_xaxis().set_visible(False)\n",
    "    ax.get_yaxis().set_visible(False)\n",
    "\n",
    "    # display reconstruction\n",
    "    ax = plt.subplot(2, n, i + n)\n",
    "    plt.imshow(decoded_imgs[i].reshape(28, 28))\n",
    "    plt.gray()\n",
    "    ax.get_xaxis().set_visible(False)\n",
    "    ax.get_yaxis().set_visible(False)\n",
    "plt.show()"
   ]
  },
  {
   "cell_type": "markdown",
   "metadata": {},
   "source": [
    "#### Visualization of the Representations"
   ]
  },
  {
   "cell_type": "code",
   "execution_count": null,
   "metadata": {},
   "outputs": [],
   "source": [
    "encoder = Model(input_img, encoded)\n",
    "encoder.predict(x_train)\n",
    "\n",
    "n = 10\n",
    "plt.figure(figsize=(20, 8))\n",
    "for i in range(n):\n",
    "    ax = plt.subplot(1, n, i)\n",
    "    plt.imshow(encoded_imgs[i].reshape(4, 4 * 8).T)\n",
    "    plt.gray()\n",
    "    ax.get_xaxis().set_visible(False)\n",
    "    ax.get_yaxis().set_visible(False)\n",
    "plt.show()"
   ]
  },
  {
   "cell_type": "markdown",
   "metadata": {},
   "source": [
    "## Challenge\n",
    "\n",
    "You will train an autoencoder at some point in the near future. "
   ]
  },
  {
   "cell_type": "markdown",
   "metadata": {},
   "source": [
    "# Information Retrieval with Autoencoders (Learn)\n",
    "<a id=\"p3\"></a>"
   ]
  },
  {
   "cell_type": "markdown",
   "metadata": {},
   "source": [
    "## Overview\n",
    "\n",
    "A common usecase for autoencoders is for reverse image search. Let's try to draw an image and see what's most similiar in our dataset. \n",
    "\n",
    "To accomplish this we will need to slice our autoendoer in half to extract our reduced features. :) "
   ]
  },
  {
   "cell_type": "markdown",
   "metadata": {},
   "source": [
    "## Follow Along"
   ]
  },
  {
   "cell_type": "code",
   "execution_count": 94,
   "metadata": {},
   "outputs": [],
   "source": [
    "encoder = Model(input_img, encoded)\n",
    "encoded_imgs = encoder.predict(x_train)"
   ]
  },
  {
   "cell_type": "code",
   "execution_count": 98,
   "metadata": {},
   "outputs": [
    {
     "data": {
      "text/plain": [
       "array([ 0.39389127,  1.0158104 ,  0.        ,  0.        ,  0.06517133,\n",
       "        2.450819  ,  0.        ,  5.1117034 ,  0.74338543,  2.3620906 ,\n",
       "        0.        ,  0.        ,  0.        ,  2.0215404 ,  6.1629906 ,\n",
       "        0.6670714 ,  4.66508   ,  2.5439487 , 17.914988  ,  0.        ,\n",
       "        7.9524546 ,  5.3824563 ,  1.0916216 ,  6.234546  ,  0.        ,\n",
       "        0.8884269 ,  7.485719  ,  3.44194   ,  8.927442  ,  0.        ,\n",
       "        0.23894644,  0.        ], dtype=float32)"
      ]
     },
     "execution_count": 98,
     "metadata": {},
     "output_type": "execute_result"
    }
   ],
   "source": [
    "encoded_imgs[0].T"
   ]
  },
  {
   "cell_type": "code",
   "execution_count": 99,
   "metadata": {},
   "outputs": [
    {
     "data": {
      "text/plain": [
       "NearestNeighbors(algorithm='ball_tree', leaf_size=30, metric='minkowski',\n",
       "                 metric_params=None, n_jobs=None, n_neighbors=10, p=2,\n",
       "                 radius=1.0)"
      ]
     },
     "execution_count": 99,
     "metadata": {},
     "output_type": "execute_result"
    }
   ],
   "source": [
    "from sklearn.neighbors import NearestNeighbors\n",
    "\n",
    "nn = NearestNeighbors(n_neighbors=10, algorithm='ball_tree')\n",
    "nn.fit(encoded_imgs)"
   ]
  },
  {
   "cell_type": "code",
   "execution_count": null,
   "metadata": {},
   "outputs": [],
   "source": [
    "nn.kneighbors(...)"
   ]
  },
  {
   "cell_type": "markdown",
   "metadata": {},
   "source": [
    "## Challenge\n",
    "\n",
    "You should already be familiar with KNN and similarity queries, so the key component of this section is know what to 'slice' from your autoencoder (the encoder) to extract features from your data. "
   ]
  },
  {
   "cell_type": "markdown",
   "metadata": {},
   "source": [
    "# Review\n",
    "\n",
    "* <a href=\"#p1\">Part 1</a>: Describe the componenets of an autoencoder\n",
    "    - Enocder\n",
    "    - Decoder\n",
    "* <a href=\"#p2\">Part 2</a>: Train an autoencoder\n",
    "    - Can do in Keras Easily\n",
    "    - Can use a variety of architectures\n",
    "    - Architectures must follow hourglass shape\n",
    "* <a href=\"#p3\">Part 3</a>: Apply an autoenocder to a basic information retrieval problem\n",
    "    - Extract just the encoder to use for various tasks\n",
    "    - AE ares good for dimensionality reduction, reverse image search, and may more things. \n"
   ]
  },
  {
   "cell_type": "markdown",
   "metadata": {},
   "source": [
    "# Sources\n",
    "\n",
    "__References__\n",
    "- [Building Autoencoders in Keras](https://blog.keras.io/building-autoencoders-in-keras.html)\n",
    "- [Deep Learning Cookbook](http://shop.oreilly.com/product/0636920097471.do)\n",
    "\n",
    "__Additional Material__"
   ]
  }
 ],
 "metadata": {
  "kernelspec": {
   "display_name": "conda_amazonei_tensorflow_p36",
   "language": "python",
   "name": "conda_amazonei_tensorflow_p36"
  },
  "language_info": {
   "codemirror_mode": {
    "name": "ipython",
    "version": 3
   },
   "file_extension": ".py",
   "mimetype": "text/x-python",
   "name": "python",
   "nbconvert_exporter": "python",
   "pygments_lexer": "ipython3",
   "version": "3.6.5"
  }
 },
 "nbformat": 4,
 "nbformat_minor": 2
}
